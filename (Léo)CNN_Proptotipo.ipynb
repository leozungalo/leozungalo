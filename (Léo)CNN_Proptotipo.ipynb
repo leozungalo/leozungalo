{
  "nbformat": 4,
  "nbformat_minor": 0,
  "metadata": {
    "colab": {
      "provenance": [],
      "include_colab_link": true
    },
    "kernelspec": {
      "name": "python3",
      "display_name": "Python 3"
    },
    "language_info": {
      "name": "python"
    }
  },
  "cells": [
    {
      "cell_type": "markdown",
      "metadata": {
        "id": "view-in-github",
        "colab_type": "text"
      },
      "source": [
        "<a href=\"https://colab.research.google.com/github/leozungalo/leozungalo/blob/main/(L%C3%A9o)CNN_Proptotipo.ipynb\" target=\"_parent\"><img src=\"https://colab.research.google.com/assets/colab-badge.svg\" alt=\"Open In Colab\"/></a>"
      ]
    },
    {
      "cell_type": "markdown",
      "source": [],
      "metadata": {
        "id": "Y9Ix7ehMyI3s"
      }
    },
    {
      "cell_type": "markdown",
      "source": [
        "Importando tensorflow, keras e outras bibliotecas auxiliares."
      ],
      "metadata": {
        "id": "zA8F2bzh8njx"
      }
    },
    {
      "cell_type": "code",
      "execution_count": null,
      "metadata": {
        "colab": {
          "base_uri": "https://localhost:8080/"
        },
        "id": "AlhLZ0gd8Dc8",
        "outputId": "f28ac04d-65b3-46fa-9932-6f9cd307538d"
      },
      "outputs": [
        {
          "output_type": "stream",
          "name": "stdout",
          "text": [
            "2.15.0\n",
            "1.25.2\n",
            "3.7.1\n",
            "Python 3.10.12\n"
          ]
        }
      ],
      "source": [
        "# TensorFlow and tf.keras\n",
        "import tensorflow as tf\n",
        "\n",
        "# Bibliotecas auxiliares\n",
        "import numpy as np\n",
        "import matplotlib.pyplot as plt\n",
        "\n",
        "# Só pra checar a versão\n",
        "import matplotlib\n",
        "\n",
        "print(tf.__version__)\n",
        "print(np.__version__)\n",
        "print(matplotlib.__version__)\n",
        "!python --version"
      ]
    },
    {
      "cell_type": "markdown",
      "source": [
        "`Importando os Datasets de treino, validação e teste.`"
      ],
      "metadata": {
        "id": "O6E5Yk6h8j8_"
      }
    },
    {
      "cell_type": "code",
      "source": [
        "#Paths de treino, validação e teste\n",
        "train_path = '/content/dataset3/treino'\n",
        "valid_path = '/content/dataset3/validacao'\n",
        "test_path = '/content/dataset3/teste'\n",
        "\n",
        "#Importando dataset de treino com 1050 imagens com tumor e 1050 sem o tumor. Padronizando o tamanho de todas em 128x128\n",
        "train_set = tf.keras.preprocessing.image_dataset_from_directory(train_path, labels='inferred', image_size=[128,128])\n",
        "\n",
        "#Importando dataset de validação com 300 imagens com tumor e 300 sem o tumor. Padronizando o tamanho de todas em 128x128\n",
        "valid_set = tf.keras.preprocessing.image_dataset_from_directory(valid_path, labels='inferred', image_size=[128,128])\n",
        "\n",
        "#Importando dataset de teste com 150 imagens com tumor e 150 sem o tumor. Padronizando o tamanho de todas em 128x128\n",
        "test_set = tf.keras.preprocessing.image_dataset_from_directory(test_path, labels='inferred', image_size=[128,128])"
      ],
      "metadata": {
        "id": "j_tDCqoV8l7l"
      },
      "execution_count": null,
      "outputs": []
    },
    {
      "cell_type": "markdown",
      "source": [
        "Visualizando 9 imagens de cada dataset."
      ],
      "metadata": {
        "id": "G8qWZKUKanpL"
      }
    },
    {
      "cell_type": "code",
      "source": [
        "#Dataset de treino\n",
        "plt.figure(figsize=(10, 10))\n",
        "\n",
        "for images, labels in train_set.take(1):\n",
        "  for i in range(7):\n",
        "    ax = plt.subplot(3,3,i+1)\n",
        "    plt.imshow(images[i].numpy().astype(\"uint8\"))\n",
        "    plt.title(\"Negativo\" if int(labels[i]) == 1 else \"Positivo\")\n",
        "    plt.axis('off')"
      ],
      "metadata": {
        "id": "ROHSkVhL-anr"
      },
      "execution_count": null,
      "outputs": []
    },
    {
      "cell_type": "code",
      "source": [
        "#Dataset de validação\n",
        "plt.figure(figsize=(10, 10))\n",
        "\n",
        "for images, labels in valid_set.take(1):\n",
        "  for i in range(2):\n",
        "    ax = plt.subplot(3,3,i+1)\n",
        "    plt.imshow(images[i].numpy().astype(\"uint8\"))\n",
        "    plt.title(\"Negativo\" if int(labels[i]) == 1 else \"Positivo\")\n",
        "    plt.axis('off')"
      ],
      "metadata": {
        "id": "GjTv4wO_onlB"
      },
      "execution_count": null,
      "outputs": []
    },
    {
      "cell_type": "code",
      "source": [],
      "metadata": {
        "id": "ni7XIwtA8SDk"
      },
      "execution_count": null,
      "outputs": []
    },
    {
      "cell_type": "code",
      "source": [
        "#Dataset de teste\n",
        "plt.figure(figsize=(10, 10))\n",
        "\n",
        "for images, labels in test_set.take(1):\n",
        "  for i in range(1):\n",
        "    ax = plt.subplot(3,3,i+1)\n",
        "    plt.imshow(images[i].numpy().astype(\"uint8\"))\n",
        "    plt.title(\"Negativo\" if int(labels[i]) == 1 else \"Positivo\")\n",
        "    plt.axis('off')"
      ],
      "metadata": {
        "id": "C6TDEg8Qoske"
      },
      "execution_count": null,
      "outputs": []
    },
    {
      "cell_type": "markdown",
      "source": [
        "Modelando rede"
      ],
      "metadata": {
        "id": "r78Aj9VTf8H_"
      }
    },
    {
      "cell_type": "code",
      "source": [
        "model = tf.keras.Sequential([\n",
        "    tf.keras.layers.experimental.preprocessing.Rescaling(1./255),\n",
        "    tf.keras.layers.Conv2D(4, activation='relu', kernel_size=5),\n",
        "    tf.keras.layers.Conv2D(32, activation='relu', kernel_size=5),\n",
        "    tf.keras.layers.Conv2D(32, activation='relu', kernel_size=5),\n",
        "    tf.keras.layers.Conv2D(64, activation='relu', kernel_size=5),\n",
        "    tf.keras.layers.Conv2D(128, activation='relu', kernel_size=5),\n",
        "    tf.keras.layers.Flatten(),\n",
        "    tf.keras.layers.Dense(128, activation='relu'),\n",
        "    tf.keras.layers.Dense(1, activation='sigmoid')\n",
        "])"
      ],
      "metadata": {
        "id": "AMMGJg73gF20"
      },
      "execution_count": null,
      "outputs": []
    },
    {
      "cell_type": "markdown",
      "source": [
        "Preparando configurações de treino, validação e teste"
      ],
      "metadata": {
        "id": "4CqlDvgXlw1u"
      }
    },
    {
      "cell_type": "code",
      "source": [
        "#Inicializando o dataset de treino\n",
        "train_datagen = tf.keras.preprocessing.image.ImageDataGenerator(\n",
        "    rescale=1./255,\n",
        "    width_shift_range=0.2,\n",
        "    height_shift_range=0.2,\n",
        "    shear_range=0.2,\n",
        "    zoom_range=0.2,\n",
        "    horizontal_flip=True\n",
        ")\n",
        "\n",
        "#Inicializando o dataset de validação\n",
        "val_datagen = tf.keras.preprocessing.image.ImageDataGenerator(rescale=1./255)\n",
        "\n",
        "#Inicializando o dataset de teste\n",
        "test_datagen = tf.keras.preprocessing.image.ImageDataGenerator(rescale=1./255)\n",
        "\n",
        "#Importando dataset de treino\n",
        "train_generator = train_datagen.flow_from_directory(\n",
        "    \"/content/dataset3/treino\",\n",
        "    target_size=(128, 128),\n",
        "    batch_size=32,\n",
        "    class_mode='binary'\n",
        ")\n",
        "\n",
        "#Importando dataset de validação\n",
        "val_generator = val_datagen.flow_from_directory(\n",
        "    \"/content/dataset3/validacao\",\n",
        "    target_size=(128, 128),\n",
        "    batch_size=32,\n",
        "    class_mode='binary'\n",
        ")\n",
        "\n",
        "#Importando dataset de teste\n",
        "test_generator = test_datagen.flow_from_directory(\n",
        "    \"/content/dataset3/teste\",\n",
        "    target_size=(128, 128),\n",
        "    batch_size=32,\n",
        "    class_mode='binary'\n",
        ")"
      ],
      "metadata": {
        "id": "WsHtNwz_lwmY"
      },
      "execution_count": null,
      "outputs": []
    },
    {
      "cell_type": "markdown",
      "source": [
        "Criando modelo e epochs de treino."
      ],
      "metadata": {
        "id": "FkM9PrNWu1uI"
      }
    },
    {
      "cell_type": "code",
      "source": [
        "#Preparando modelo para treino. Otimizador mais popular configurado.\n",
        "model.compile(optimizer='Adam', loss='binary_crossentropy', metrics=['accuracy'])\n",
        "\n",
        "#Realizando os ciclos de treino\n",
        "history = model.fit(\n",
        "    train_generator,\n",
        "    validation_data=val_generator,\n",
        "    epochs=10,\n",
        "    verbose=2\n",
        ")\n",
        "\n",
        "# Calculando a acurácia do modelo\n",
        "predictions = model.predict(test_generator)\n",
        "predicted_labels = np.round(predictions).flatten()\n",
        "true_labels = test_generator.classes\n",
        "accuracy = np.mean(predicted_labels == true_labels)\n",
        "print(\"Acurácia do modelo:\", accuracy)"
      ],
      "metadata": {
        "id": "7S3tDvaWu6vZ"
      },
      "execution_count": null,
      "outputs": []
    },
    {
      "cell_type": "code",
      "source": [],
      "metadata": {
        "id": "1KDf9QcLJoq9"
      },
      "execution_count": null,
      "outputs": []
    }
  ]
}